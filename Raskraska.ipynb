{
 "cells": [
  {
   "cell_type": "code",
   "execution_count": null,
   "metadata": {},
   "outputs": [],
   "source": [
    "#Old version\n",
    "import numpy as np\n",
    "from PIL import Image\n",
    "\n",
    "filename = 'filename'\n",
    "data2 = open(filename + '.txt', 'r')\n",
    "dictionary = np.loadtxt(data2, dtype=int)\n",
    "\n",
    "print('Надо понимать, с какими значениями углов мы считаем')\n",
    "print('Number of columns')\n",
    "width = int(input())\n",
    "print('Number of rows')\n",
    "high = int(input())\n",
    "\n",
    "data = np.zeros((high, width, 3), dtype=np.uint8)\n",
    "k = -1\n",
    "for i in range(0, high):\n",
    "    k = k + 1\n",
    "    for j in range(0, width):\n",
    "        data[i][j] = (dictionary[j + width * k]) / [360, 90, 360] * 255\n",
    "\n",
    "print(data)\n",
    "img = Image.fromarray(data, 'RGB')\n",
    "img = img.resize((width*5, high*5))\n",
    "img.save(filename + '.png')\n",
    "data2.close()\n",
    "#img.show()"
   ]
  },
  {
   "cell_type": "code",
   "execution_count": null,
   "metadata": {},
   "outputs": [],
   "source": [
    "#New version\n",
    "import numpy as np\n",
    "import matplotlib.pyplot as plt \n",
    "from PIL import Image\n",
    "\n",
    "#enter shape of your map\n",
    "width = int(input('Number of columns'))\n",
    "high = int(input('Number of rows'))\n",
    "\n",
    "#loading data in matrix\n",
    "data = np.loadtxt('FileName.txt', dtype = int)\n",
    "\n",
    "#array normalization, converting array to correct shape\n",
    "data = (data / [360, 90, 360] * 255).reshape(high, width, 3)  \n",
    "\n",
    "#transfer from array to image\n",
    "im = Image.fromarray(data,'RGB')\n",
    "\n",
    "#image increasing\n",
    "image = im.resize((500,500))\n",
    "\n",
    "#saving output image\n",
    "image.save('OutPutImage.png')"
   ]
  }
 ],
 "metadata": {
  "kernelspec": {
   "display_name": "Python 3 (ipykernel)",
   "language": "python",
   "name": "python3"
  },
  "language_info": {
   "codemirror_mode": {
    "name": "ipython",
    "version": 3
   },
   "file_extension": ".py",
   "mimetype": "text/x-python",
   "name": "python",
   "nbconvert_exporter": "python",
   "pygments_lexer": "ipython3",
   "version": "3.10.5"
  }
 },
 "nbformat": 4,
 "nbformat_minor": 4
}
