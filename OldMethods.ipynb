{
 "cells": [
  {
   "cell_type": "code",
   "execution_count": null,
   "id": "62da1e62-b030-4162-a016-497af56e7528",
   "metadata": {},
   "outputs": [],
   "source": [
    "# MIV between 2 objects old version \n",
    "\n",
    "import numpy as np\n",
    "from PIL import Image\n",
    "import h5py\n",
    "\n",
    "MIVloc=0\n",
    "\n",
    "# f = h5py.File('name of h5 file', 'r')\n",
    "# img = f['EMData/EBSD/EBSDPatterns'][0]\n",
    "\n",
    "img = Image.open('image filename')\n",
    "imgarr = np.asarray(img, dtype='uint8')\n",
    "img2 = Image.open('image filename')\n",
    "patarr = np.asarray(img2, dtype='uint8')\n",
    "for high in range(0,480,1):\n",
    "    for width in range(0,640,1):\n",
    "        teor=int(patarr[high,width])\n",
    "        exp=int(imgarr[high,width])  \n",
    "        MIVloc=MIVloc+(abs(exp-teor))/(640*480)\n",
    "\n",
    "print(MIVloc)"
   ]
  }
 ],
 "metadata": {
  "kernelspec": {
   "display_name": "Python 3 (ipykernel)",
   "language": "python",
   "name": "python3"
  },
  "language_info": {
   "codemirror_mode": {
    "name": "ipython",
    "version": 3
   },
   "file_extension": ".py",
   "mimetype": "text/x-python",
   "name": "python",
   "nbconvert_exporter": "python",
   "pygments_lexer": "ipython3",
   "version": "3.10.5"
  }
 },
 "nbformat": 4,
 "nbformat_minor": 5
}
